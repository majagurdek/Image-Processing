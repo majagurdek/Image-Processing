{
  "cells": [
    {
      "cell_type": "markdown",
      "metadata": {
        "collapsed": true,
        "pycharm": {
          "name": "#%% md\n"
        },
        "id": "hQZtm-vvhmlZ"
      },
      "source": [
        "# Indeksacja. Prosta klasyfikacja obiektów.\n",
        "\n",
        "## Cel ćwiczenia\n",
        "- zapoznanie z dwuprzebiegowym algorytmem indeksacji (ang. *connected component labelling*):\n",
        "- zapoznanie z prostą klasyfikacją obiektów z wykorzystaniem współczynników kształtu,\n",
        "- zadanie domowe: zmodyfikowana indeksacja dwuprzebiegowa i indeksacja jednoprzebiegowa.\n",
        "\n",
        "## Indeksacja\n",
        "\n",
        "Większość dotychczas poznanych i wykorzystywanych algorytmów przetwarzania obrazu wykonywała operacje na całym obrazie (lub co najwyżej dokonywany był podział obiekt/obiekty - tło. Np. różne metody segmentacji).\n",
        "Patrząc na poniższny rysunek człowiek widzi dwa kwadraty.\n",
        "\n",
        "![Dwa kwadraty, obraz binarny](https://raw.githubusercontent.com/vision-agh/poc_sw/master/13_CCL/2objects.png)\n",
        "\n",
        "Dla automatycznego systemu analizy i rozpoznawania obrazów przejście od etapu obiekty/tło do wyróżnienia dwóch kwadratów nie jest takie oczywiste i wymaga zastosowania jakieś formy indeksacji - czyli przypisania każdemu z pikseli uznanych za należące do obiektów (tu białych) jakieś etykiety (w naszym przypadku będą to dwie etykiety, ew. dodatkowa oznaczająca tło).\n",
        "\n",
        "W tej części ćwiczenia zaprezentowany zostanie tzw. dwuprzebiegowy algorytm indeksacji (ang. *two-pass connected component labelling*).\n",
        "Jego nazwa związana jest z koniecznością wykonania dwukrotnego odwiedzenia każdego z pikseli obrazu (dwie pętle/iteracje po obrazie).\n",
        "Istnieją również tzw. jednoprzebiegowe algorytmy indeksacji."
      ]
    },
    {
      "cell_type": "markdown",
      "source": [
        "## Opis algorytmu\n",
        "\n",
        "- Na wejściu mamy obraz po binaryzacji - zakładamy, że piksele białe ('1', '255') należą do obiektów, tło jest czarne.\n",
        "\n",
        "- W pierwszej iteracji obraz analizujemy linia po linii, od lewej do prawej, aż do napotkania pierwszego piksela o wartości różnej od '0'.\n",
        "  W tej sytuacji dokonujemy analizy otoczenia piksela:\n",
        "\n",
        "  ![Dwa kwadraty, obraz binarny](https://raw.githubusercontent.com/vision-agh/poc_sw/master/13_CCL/cclContext.png)\n",
        "\n",
        "  gdzie: **X**  rozważany piksel, **A,B,C,D** - sąsiedzi z otoczenia.\n",
        "  Uwaga. W przykładzie pokazano tzw. sąsiedztwo 8-elementowe.\n",
        "  Niekiedy stosuje się również wersję 4-elementową (praktycznie bardzo rzadko).\n",
        "  Wtedy analizie podlegałyby by tylko piksele **B** i **D**.\n",
        "\n",
        "- Możliwe są następujące przypadki dla otoczenia __A,B,C,D__:\n",
        "    - (a) wszystkie należą do tła __A,B,C,D == 0__.\n",
        "      Wtedy znaleziony piksel __X__ należy do nowego obiektu - nadajemy mu zatem etykietę __X = L+1__ - przez __L__ rozumiemy poprzednią etykietę.\n",
        "\t  Uwaga. Przed uruchomieniem algorytmu __L__ należy zainicjować wartością  '1'\n",
        "    - (b) jeden lub więcej pikseli ma przypisaną aktualną etykietę **L**.\n",
        "\t  Wtedy rozważanemu pikselowi przypisujemy etykietę **X = L**.\n",
        "    - (c) w otoczeniu występują piksele o różnych etykietach np. *L1* i *L2*.\n",
        "\t  Wtedy przyjmuje się zasadę, że rozważanemu pikselowi *X* przypisuje się mniejszą z wartości *L1* i *L2* (*X = min(L1,L2)*)."
      ],
      "metadata": {
        "collapsed": false,
        "id": "RffZdb9lhmlf"
      }
    },
    {
      "cell_type": "markdown",
      "source": [
        "## Implementacja:\n",
        "\n",
        "- Wczytaj obraz *ccl1.png*, wyświetl go.\n",
        "  Po krótkiej analizie można zauważyć, że występuje na nim 7 odrębnych obiektów.\n",
        "      Ich ``wykrycie'' będzie naszym celem.\n",
        "\n",
        "- Na podstawie opisu algorytmu podanego wcześniej zaimplementuj tzw. pierwszą fazę indeksacji (ang. _first pass_):\n",
        "    - uwaga ogólna - algorytm jest dość prosty i łatwy w implementacji,\n",
        "    - obliczenia powinny odbywać się w pętlach `for` - iteracja po całym obrazku.\n",
        "      Warto pominąć pierwszy wiersz i pierwszą oraz ostatnią kolumnę, aby  wyeliminować problem z brakiem kontekstu (można np. założyć, że pikseli brzegowych nie ma, bo wcześniej wykonane zostało morfologiczne czyszczenie brzegu).\n",
        "    - dla przypomnienia iteracja po macierzy w Python - pętla zewnętrzna - wiersze, pętla wewnętrzna - kolumny – tj. pierwsza współrzędna to wiersz, a druga kolumna,\n",
        "    - rozmiar obrazka można odczytać np. poleceniem: `yy, xx = img.shape`\n",
        "      Przy takim przypisaniu `yy` oznacza liczbę wierszy (wysokość obrazka), a `xx` liczbę kolumn (szerokość obrazka),\n",
        "    - działania podejmujemy tylko w przypadku, gdy aktualnie analizowany piksel ma wartość różną od zera (gdy należy do obiektu),\n",
        "    - najtrudniejszym elementem jest analiza otoczenia piksela i stwierdzenie, z którym z przypadków (a), (b) czy (c) mamy do czynienia.\n",
        "      Problem można rozwiązać jakkolwiek (tylko dobrze), poniżej prezentowana jest jedna z możliwości.\n",
        "    - na początku tworzymy listę pikseli, które stanowią otoczenie piksela X (A, B, C, D) np: ` neighbours = [img[j - 1, i - 1], ... `\n",
        "    - następnie sprawdzamy czy nie występuje przypadek (a) - czyli czy suma sąsiadów nie wynosi 0 -  ` neigh_sum = np.sum(neighbours)`, jeżeli tak to `X = L` oraz `L=L+1`.\n",
        "      Uwaga proszę nie zapomnieć zainicjalizować etykiety `L` wartością 1.\n",
        "    - jeżeli `neigh_sum > 0`, mamy do czynienia z przypadkiem (b) lub (c).\n",
        "      Eliminujemy zerowe elementy z listy `sasiedzi` (`neighbours = filter(lambda x: x != 0, neighbours)`), a następnie znajdujemy minimum i maksimum nowej listy `neighbours` (funkcje `min` i `max` z _numpy_).\n",
        "    - z przypadkiem (b) będziemy mieli do czynienia, gdy *minimum = maksimum*.\n",
        "      Wtedy jako etykietę przypisujemy `X = minimum = maksimum`.\n",
        "      Gdy *minimum != maksimum* mamy przypadek (c).\n",
        "      Wtedy etykieta `X = minimum` - taką przyjmujemy konwencję,\n",
        "    - uwaga 1 - algorytm operuje (czyta punkty z otoczenia i zapisuje kolejne indeksy L) na tym samym obrazie wejściowym,\n",
        "    \\item uwaga 2 - przed implementacją metody obsługi konfliktów przypadki (b) i (c) działają tak samo, ale dla potrzeb dalszych kroków należy je rozróżnić,\n",
        "\n",
        "- Wykonaj indeksację obrazu za pomocą zaimplementowanego algorytmu.\n",
        "  Jeżeli wszystko zostało poprawnie napisane, to wynik powinien wyglądać mniej więcej tak jak na poniższym rysunku. Takie porównanie stanowić będzie pierwszy test poprawności implementacji algorytmu.\n",
        "\n",
        "  ![Wynik pierwszewgo etapu indekscacji](https://raw.githubusercontent.com/vision-agh/poc_sw/master/13_CCL/ccl1Result.png)\n",
        "\n",
        "\n"
      ],
      "metadata": {
        "collapsed": false,
        "id": "p-tJCJ5shmlh"
      }
    },
    {
      "cell_type": "code",
      "execution_count": 45,
      "outputs": [],
      "source": [
        "import os\n",
        "import cv2\n",
        "import matplotlib.pyplot as plt\n",
        "import numpy as np\n",
        "import pandas as pd \n",
        "\n",
        "if not os.path.exists(\"ccl1.png\") :\n",
        "    !wget https://raw.githubusercontent.com/vision-agh/poc_sw/master/13_CCL/ccl1.png --no-check-certificate\n",
        "if not os.path.exists(\"shapes.png\") :\n",
        "    !wget https://raw.githubusercontent.com/vision-agh/poc_sw/master/13_CCL/shapes.png --no-check-certificate\n",
        "if not os.path.exists(\"shapesReal.png\") :\n",
        "    !wget https://raw.githubusercontent.com/vision-agh/poc_sw/master/13_CCL/shapesReal.png --no-check-certificate\n",
        "\n",
        "# Implementacja pierwszego kroku indeksacji\n"
      ],
      "metadata": {
        "pycharm": {
          "name": "#%%\n"
        },
        "id": "w3qjzw2yhmli"
      }
    },
    {
      "cell_type": "code",
      "source": [
        "img = cv2.imread('ccl1.png', cv2.IMREAD_GRAYSCALE)\n",
        "plt.imshow(img, 'gray')"
      ],
      "metadata": {
        "colab": {
          "base_uri": "https://localhost:8080/",
          "height": 214
        },
        "id": "CwJUdRUAJMks",
        "outputId": "96008cbe-e129-4e39-f725-650168b0dbb7"
      },
      "execution_count": 15,
      "outputs": [
        {
          "output_type": "execute_result",
          "data": {
            "text/plain": [
              "<matplotlib.image.AxesImage at 0x7f752aeb6880>"
            ]
          },
          "metadata": {},
          "execution_count": 15
        },
        {
          "output_type": "display_data",
          "data": {
            "text/plain": [
              "<Figure size 432x288 with 1 Axes>"
            ],
            "image/png": "[encoded data removed]"
          },
          "metadata": {
            "needs_background": "light"
          }
        }
      ]
    },
    {
      "cell_type": "code",
      "source": [
        "L = 1 #etykieta\n",
        "yy,xx = img.shape\n",
        "\n",
        "for y in range(1, yy):\n",
        "    for x in range(1, xx - 1):\n",
        "        if img[y, x] == 0:\n",
        "            continue\n",
        "        neighbours = [img[y - 1, x - 1],img[y - 1, x],img[y - 1, x + 1],img[y, x - 1]]\n",
        "        neigh_sum = np.sum(neighbours)\n",
        "        if neigh_sum == 0:      #a\n",
        "            img[y, x] = L\n",
        "            L += 1\n",
        "        else:\n",
        "           neighbours = [x for x in neighbours if x != 0]\n",
        "           min = np.min(neighbours)\n",
        "           max = np.max(neighbours)\n",
        "           if min == max:\n",
        "             img[y, x] = min   #b\n",
        "           else:\n",
        "             img[y, x] = min   #c     \n",
        "\n",
        "plt.imshow(img, 'gray')"
      ],
      "metadata": {
        "colab": {
          "base_uri": "https://localhost:8080/",
          "height": 214
        },
        "id": "abBEtZtSJm39",
        "outputId": "04cff63d-0d97-4925-b541-7a831d12fccb"
      },
      "execution_count": 20,
      "outputs": [
        {
          "output_type": "execute_result",
          "data": {
            "text/plain": [
              "<matplotlib.image.AxesImage at 0x7f7529152940>"
            ]
          },
          "metadata": {},
          "execution_count": 20
        },
        {
          "output_type": "display_data",
          "data": {
            "text/plain": [
              "<Figure size 432x288 with 1 Axes>"
            ],
            "image/png": "[encoded data removed]"
          },
          "metadata": {
            "needs_background": "light"
          }
        }
      ]
    },
    {
      "cell_type": "markdown",
      "source": [
        "## Dyskusja:\n",
        "\n",
        "- W wyniku indeksacji uzyskujemy obraz, na którym wyróżnionych jest wiele obiektów (dokładnie 48) - a faktycznie jest tylko 7. Zastanówmy się z czego to wynika.\n",
        "\n",
        "- Zacznijmy od prostego przypadku przedstawionego na poniższym rysunku:\n",
        "\n",
        "  ![Indeksacja - przykład pierwszy](https://raw.githubusercontent.com/vision-agh/poc_sw/master/13_CCL/cclEx1.png)\n",
        "\n",
        "  Obraz analizowany jest linia po linii.\n",
        "  Zatem pierwszą etykietę dostanie słupek po prawej.\n",
        "  Późnej ten po lewej.\n",
        "  Postępując zgodnie z podanym algorytmem, w pewnym momencie (piksel wyróżniony na obrazku) dojdzie do sytuacji, w której w otoczeniu danego piksela znajdą się dwie różne etykiety (tu: '1' i '2').\n",
        "  Wtedy zgodnie z przyjętą metodologią przypisujemy niższą, tj. '1'.\n",
        "  Problem jaki powstaje, to brak zapamiętania informacji o tym, że wystąpił taki konflikt tj. że powinno nastąpić połączenie etykiet '1' i '2'.\n",
        "  Z tego powodu wynik działania algorytmu nie jest poprawny.\n",
        "\n",
        "-  Przeanalizujmy jeszcze jeden, bardziej złożony przykład z rysunku poniżej:\n",
        "   ![Indeksacja - przykład drugi](https://raw.githubusercontent.com/vision-agh/poc_sw/master/13_CCL/cclEx2.png)\n",
        "\n",
        "   Słupek po prawej dostaje indeks '1', a po lewej '2'.\n",
        "   W czwartej linii występuje piksel, który ma w swoim sąsiedztwie (A,B,C,D) same piksele czarne.\n",
        "   Dlatego dostaje etykietę '3'.\n",
        "   Jednak w następnym kroku okazuje się, że następuje konflikt '3' z '1' (połączenie).\n",
        "   W kolejnym wierszu występuje konflikt '2' i '3'.\n",
        "   Warto zwrócić uwagę, że w tym przypadku trzeba uniknąć sytuacji ''utraty'' informacji o połączeniu '1' z '2' przez '3'.\n",
        "\n",
        "- W literaturze zaproponowano wiele sposobów reprezentacji i rozwiązywania przedstawionych konfliktów:\n",
        "    - 2-krotki,\n",
        "    - n-krotki,\n",
        "    - tablica dwuwymiarowa,\n",
        "    - grafy + przeszukiwanie grafu wgłąb.\n",
        " W obecnym ćwiczeniu zastosujemy ostatnie podejście, które jest najprostsze do realizacji."
      ],
      "metadata": {
        "collapsed": false,
        "id": "sSYQBjjHhmlk"
      }
    },
    {
      "cell_type": "markdown",
      "source": [
        "- Opisane konflikty możemy przechowywać w strukturze zbiorów rozłącznych (ang. _union find_).\n",
        "  Jest to zagadnienie znane z przedmiotu ''Algorytmy i struktury danych''.\n",
        "  Poniżej zostanie zaprezentowane krótkie przypomnienie.\n",
        "\n",
        "- Mamy $N$ obiektów. W naszym przypadku to jest $N$ etykiet.\n",
        "  Chcemy przechowywać informację o sytuacji, w której następuje łączenie etykiet tj. interesują nas zbiory obiektów połączonych.\n",
        "  Przykład trzech zbiorów zamieszczono na rysunku:\n",
        "  ![Przykład trzech połączonych zbiorów](https://raw.githubusercontent.com/vision-agh/poc_sw/master/13_CCL/unionFind1.png)\n",
        "\n",
        "- W ramach rozważanej struktury implementuje się dwie operacje:\n",
        "    - *find* (znajdź) - sprawdzenie czy dwa obiekty należą do tego samego zbioru połączonego,\n",
        "\t- *union* (połącz) - wprowadź połączenie pomiędzy dwoma obiektami.\n",
        "\n",
        "- Z punktu widzenia naszych potrzeb ważna jest funkcja _union_. Przykład dodania połączenia pomiędzy obiektami '2' a'3' pokazano na rysunku:\n",
        "\n",
        "  ![Przykład łączenia obiektów](https://raw.githubusercontent.com/vision-agh/poc_sw/master/13_CCL/unionFind2.png)\n",
        "\n",
        "- Strukturę oraz obie operacje można zaimplementować na kilka sposobów.\n",
        "  Zainteresowanych odsyłam do literatury przedmiotu.\n",
        "  My zastosujemy podejście _quick-union_.\n",
        "  Nie jest ono specjalnie wydajnie, ale bardzo proste do implementacji.\n",
        "\n",
        "- Nasz graf, w którym wierzchołki oznaczają etykiety, a krawędzie połączenia między etykietami, zapiszemy w tablicy jednowymiarowej `id[]` o rozmiarze $N$ (maksymalna liczba etykiet).\n",
        "  Interpretacja pola w tablicy: `id[i]` jest rodzicem `i`.\n",
        "  Korzeń elementu `i` jest dany jako: `id[id[id[...id[i]...]]]`.\n",
        "\n",
        "- Przeanalizujmy jak to działa na prostym przykładzie.\n",
        "  Mamy dany poetykietowany obraz:\n",
        "\n",
        "    ![Indeksacja - przykład 3](https://raw.githubusercontent.com/vision-agh/poc_sw/master/13_CCL/cclEx3.png)\n",
        "\n",
        "  Występuje na nim pięć konfliktów oznaczonych A, B, C, D i E  (uwaga w trakcie działania algorytmu pojawią się właśnie w takiej kolejności).\n",
        "\n",
        "- Sytuację wyjściową opisuje poniższy rysunek:\n",
        "   ![Indeksacja - przykład 3](https://raw.githubusercontent.com/vision-agh/poc_sw/master/13_CCL/cclEx3_union1.png)\n",
        "\n",
        "   Tablica `id` wypełniona jest kolejnymi indeksami.\n",
        "\n",
        "- W algorytmie _quick-union_, aby połączyć elementy $p$ i $q$ należy ustawić $id$ korzenia $q$ pod adres korzenia elementu $p$.\n",
        "Uwaga. Zakładamy, że $p$ < $q$.\n",
        "Można to zapisać jako: `id[root(p)] = root(q)`.\n",
        "Nasze pierwsze połączenie (A) to 4 z 2.\n",
        "Po tej operacji sytuacja będzie wyglądać następująco:\n",
        "\n",
        "    ![Indeksacja - przykład 3_1](https://raw.githubusercontent.com/vision-agh/poc_sw/master/13_CCL/cclEx3_union2.png)\n",
        "\n",
        "W tym przypadku korzenieniem obu elementów są same elementy, zatem operacja jest dość prosta.\n",
        "\n",
        "- Kolejny krok tj. połączenie  2 z 1 -  sytuacja B:\n",
        "\n",
        "    ![Indeksacja - przykład 3_2](https://raw.githubusercontent.com/vision-agh/poc_sw/master/13_CCL/cclEx3_union3.png)\n",
        "\n",
        "Element 1 jest korzeniem.\n",
        "Element 2 już nie, ponieważ `id[2]==4`.\n",
        "Sprawdzamy zatem `id[4]`.\n",
        "Okazuje się, że `id[4] == 4` tj. jest to korzeń.\n",
        "Zatem korzeniem dla elementu 2 jest 4.\n",
        "Dokonujemy stosownej modyfikacji w tablicy `id[1] = 4`.\n",
        "\n",
        "-  Kolejne połączenie to 6 z 3 (C):\n",
        "\n",
        "    ![Indeksacja - przykład 3_3](https://raw.githubusercontent.com/vision-agh/poc_sw/master/13_CCL/cclEx3_union4.png)\n",
        "\n",
        "- Kolejne połączenie to 5 z 1.\n",
        "\n",
        "    ![Indeksacja - przykład 3_4](https://raw.githubusercontent.com/vision-agh/poc_sw/master/13_CCL/cclEx3_union5.png)\n",
        "\n",
        "Szukamy korzenia elementu 1.\n",
        "Znajdujemy, że to jest 4.\n",
        "Zatem łączymy 5 i 4.\n",
        "\n",
        "- Ostatnie połączenie to 6 z 5.\n",
        "\n",
        "   ![Indeksacja - przykład 3_5](https://raw.githubusercontent.com/vision-agh/poc_sw/master/13_CCL/cclEx3_union6.png)\n",
        "\n",
        "-  Ostatni krok to wykorzystanie informacji zawartej w tablicy `id` do wyznaczenia przekodowania LUT (ang. _look-up table_), które pozwoli nam nadać poprawne etykiety wszystkim pikselom.\n",
        "      Zasadniczo sprowadza się on do obliczenia dla każdej możliwej etykiety jej korzenia.\n",
        "      W naszym przypadku zawsze otrzymamy 6, gdyż wszystkie piksele są ze sobą połączone i stanowią jeden obiekt."
      ],
      "metadata": {
        "collapsed": false,
        "pycharm": {
          "name": "#%% md\n"
        },
        "id": "NKXYR2Nihmll"
      }
    },
    {
      "cell_type": "markdown",
      "source": [
        "## Implementacja:\n",
        "\n",
        "- Implementacja jest dużo prostsza i krótsza od powyższego opisu.\n",
        "  Istotne jest tylko dobre zrozumienie algorytmu _union-find_.\n",
        "\n",
        "- Potrzebne będą nam dwie funkcje pomocnicze:\n",
        "\n",
        "    - `root` - obliczanie korzenia zgodnie z podanym opisem (odpowiednia pętla `while`). Funkcja pobiera indeks elementu oraz tablicę, a zwraca indeks korzenia.\n",
        "    - `union` - realizacja operacji unii. Argumenty to indeksy `p` i `q` oraz tablica, a wyniki to zmodyfikowana tablica.\n",
        "\n",
        "- Na początku, przed pierwszym przebiegiem algorytmu indeksacji, tworzymy tablicę `id` i inicjujemy ją wartościami od 1 do $N$.\n",
        "  Dla rozważanego przykładu wystarczy $N = 100$.\n",
        "\n",
        "- Następnie, w przypadku wystąpienia konfliktu (przypadek ()c)), tworzymy unię pomiędzy etykietą mniejszą i większą.\n",
        "\n",
        "- Po pierwszym przebiegu tworzymy, w opisany powyżej sposób, przekodowanie LUT (pętla po `id` i funkcja `root`). Powstaje nam tablica `lut`.\n",
        "\n",
        "- Implementujemy drugi przebieg po obrazie.\n",
        "  Jest on bardzo prosty.\n",
        "  Dla każdego piksela, który nie jest tłem (o etykiecie większej od 0) realizujemy przekodowanie LUT (`lut_table[img[j, i] - 1]`).\n",
        "  Otrzymany w ten sposób obraz wyświetlamy.\n",
        "  Powinniśmy uzyskać poprawne etykietowanie."
      ],
      "metadata": {
        "collapsed": false,
        "pycharm": {
          "name": "#%% md\n"
        },
        "id": "HomFhrpThmlm"
      }
    },
    {
      "cell_type": "code",
      "source": [
        "img = cv2.imread('ccl1.png', cv2.IMREAD_GRAYSCALE)"
      ],
      "metadata": {
        "id": "SCY_Q7SDPF_y"
      },
      "execution_count": 36,
      "outputs": []
    },
    {
      "cell_type": "code",
      "source": [
        "def root(i, arr):\n",
        "    while arr[i - 1] != i:\n",
        "        i = arr[i - 1]\n",
        "    return i"
      ],
      "metadata": {
        "id": "17M-8uB9OmT4"
      },
      "execution_count": 37,
      "outputs": []
    },
    {
      "cell_type": "code",
      "source": [
        "def union(p, q, arr):\n",
        "    arr[root(p, arr) - 1] = root(q, arr)\n",
        "    return arr"
      ],
      "metadata": {
        "id": "6beP5QWROmbS"
      },
      "execution_count": 38,
      "outputs": []
    },
    {
      "cell_type": "code",
      "source": [
        "id = [x for x in range(1, 100)]\n",
        "yy, xx = img.shape\n",
        "L = 1\n",
        "\n",
        "for y in range(1, yy):\n",
        "    for x in range(1, xx - 1):\n",
        "         if img[y, x] == 0:\n",
        "            continue\n",
        "         neighbours = [img[y - 1, x - 1],img[y - 1, x],img[y - 1, x + 1],img[y, x - 1]]\n",
        "         neigh_sum = np.sum(neighbours)\n",
        "         if neigh_sum == 0:\n",
        "            img[y, x] = L\n",
        "            L += 1\n",
        "         else:\n",
        "            neighbours = [x for x in neighbours if x != 0]\n",
        "            min = np.min(neighbours)\n",
        "            max = np.max(neighbours)\n",
        "            if min == max:\n",
        "                img[y, x] = min\n",
        "            else:\n",
        "                img[y, x] = min\n",
        "                id = union(min, max, id)\n",
        "\n",
        "\n",
        "lut = np.zeros((np.max(id)))\n",
        "for i in range(len(id)):\n",
        "        lut[i] = root(i+1, id)\n",
        "\n",
        "for y in range(1, yy - 1):\n",
        "    for x in range(1, xx - 1):\n",
        "        if img[y, x] == 0:\n",
        "            continue\n",
        "        img[y, x] = lut[img[y, x]-1]\n",
        "\n",
        "plt.imshow(img, 'gray')"
      ],
      "metadata": {
        "colab": {
          "base_uri": "https://localhost:8080/",
          "height": 214
        },
        "id": "XgTwZTuyO170",
        "outputId": "31af479e-412b-4bbd-de22-d5e34b72fcb3"
      },
      "execution_count": 39,
      "outputs": [
        {
          "output_type": "execute_result",
          "data": {
            "text/plain": [
              "<matplotlib.image.AxesImage at 0x7f7528e56f70>"
            ]
          },
          "metadata": {},
          "execution_count": 39
        },
        {
          "output_type": "display_data",
          "data": {
            "text/plain": [
              "<Figure size 432x288 with 1 Axes>"
            ],
            "image/png": "[encoded data removed]"
          },
          "metadata": {
            "needs_background": "light"
          }
        }
      ]
    },
    {
      "cell_type": "markdown",
      "source": [
        "## Indeksacja wbudowana w OpenCV\n",
        "\n",
        "W OpenCV dostępna jest funkcja `connectedComponents`, która pozwala wykonać indeksację.\n",
        "Proszę sprawdzić jej działanie na używanym wcześniej obrazie."
      ],
      "metadata": {
        "collapsed": false,
        "pycharm": {
          "name": "#%% md\n"
        },
        "id": "jvRBYxQzhmln"
      }
    },
    {
      "cell_type": "code",
      "execution_count": 40,
      "outputs": [],
      "source": [
        "img = cv2.imread('ccl1.png', cv2.IMREAD_GRAYSCALE)"
      ],
      "metadata": {
        "pycharm": {
          "name": "#%%\n"
        },
        "id": "ZjuZ4UMWhmlo"
      }
    },
    {
      "cell_type": "code",
      "source": [
        "_, img = cv2.connectedComponents(img)\n",
        "plt.imshow(img, 'gray')"
      ],
      "metadata": {
        "colab": {
          "base_uri": "https://localhost:8080/",
          "height": 214
        },
        "id": "rSGJlUbARron",
        "outputId": "293d3d54-a9a4-4769-887e-ab464c70e0e9"
      },
      "execution_count": 41,
      "outputs": [
        {
          "output_type": "execute_result",
          "data": {
            "text/plain": [
              "<matplotlib.image.AxesImage at 0x7f75291cff40>"
            ]
          },
          "metadata": {},
          "execution_count": 41
        },
        {
          "output_type": "display_data",
          "data": {
            "text/plain": [
              "<Figure size 432x288 with 1 Axes>"
            ],
            "image/png": "[encoded data removed]"
          },
          "metadata": {
            "needs_background": "light"
          }
        }
      ]
    },
    {
      "cell_type": "markdown",
      "source": [
        "## Rozpoznawanie obiektów z wykorzystaniem współczynników kształtu\n",
        "\n",
        "Współczynniki kształtu są pewnymi parametrami liczbowymi opisującymi kształt obiektu.\n",
        "Pozwala to na użycie ich do automatycznego rozpoznawania obiektów.\n",
        "Teoretycznie współczynniki kształtu (dobre) powinny być niezależne od zmiany położenia obiektu, jego orientacji i wielkości.\n",
        "W praktyce okazuje się jednak, że wartości współczynników zmieniają się w pewnym zakresie nawet dla obiektów należących do tych samych klas (te same kształty - przykład obracany kwadrat).\n",
        "Wynika z tego konieczność uwzględnienia pewnej tolerancji wartości współczynników kształtu wykorzystywanych w praktycznych zastosowaniach analizy i rozpoznawania obrazu.\n",
        "\n",
        "# Implementacja dla obrazu sztucznego\n",
        "\n",
        "- Wczytaj obraz _shapes.png_.\n",
        "  Wyświetl go.\n",
        "  Pierwszym etapem zadania będzie wybranie współczynników kształtu i przedziałów ich wartości - takich, które pozwolą na wykrycie konkretnych kształtów.\n",
        "  Do wyboru jest kwadrat lub krzyżyk (koło jest zbyt łatwe).\n",
        "\n",
        "- Obok ''klasycznych'' współczynników kształtu tj. Blair-Bliss, Malinowskiej, Haralick, występują współczynniki będące pochodnymi momentów geometrycznych tzn. momenty Hu [https://en.wikipedia.org/wiki/Image_moment]. Wykorzystamy je w naszym ćwiczeniu.\n",
        "\n",
        "- Pierwszy krok to indeksacja obrazu - poznana funkcja `connectedComponents`.\n",
        "- Następnie w pętli, dla kolejnych obiektów wyznaczamy współczynniki Hu.\n",
        "    - po pierwsze należy ''wybrać'' z obrazu dany obiekt np. `I = (ccl == s)*1` oraz `I = I.astype('uint8')`\n",
        "    - po drugie obliczyć momenty geometryczne - `cv2.moments(I)`\n",
        "    - po trzecie, na podstawie momentów, obliczyć momentu Hu `cv2.HuMoments(moments)`\n",
        "- Mając wyznaczone współczynniki musimy jest przeanalizować. W tym celu dobrze ja jakoś wyświetlić w postaci macierzy - proszę to rozwiązać samodzielnie.\n",
        "\n",
        "- Na podstawie analizy należy wybrać próg (jeden lub więcej) i zrealizować stosowną filtrację tj. usunąć ''niechciane'' kształty.\n",
        "\n"
      ],
      "metadata": {
        "collapsed": false,
        "id": "PX-mSQU0hmlp"
      }
    },
    {
      "cell_type": "code",
      "execution_count": 48,
      "outputs": [
        {
          "output_type": "execute_result",
          "data": {
            "text/plain": [
              "<matplotlib.image.AxesImage at 0x7f7521326730>"
            ]
          },
          "metadata": {},
          "execution_count": 48
        },
        {
          "output_type": "display_data",
          "data": {
            "text/plain": [
              "<Figure size 432x288 with 1 Axes>"
            ],
            "image/png": "[encoded data removed]"
          },
          "metadata": {
            "needs_background": "light"
          }
        }
      ],
      "source": [
        "img = cv2.imread('shapes.png', cv2.IMREAD_GRAYSCALE)\n",
        "plt.imshow(img, 'gray')"
      ],
      "metadata": {
        "pycharm": {
          "name": "#%%\n"
        },
        "id": "2sUM4QNuhmlq",
        "outputId": "474dd711-041a-4112-ce03-d4bf56f555c7",
        "colab": {
          "base_uri": "https://localhost:8080/",
          "height": 286
        }
      }
    },
    {
      "cell_type": "code",
      "source": [
        "sh, img = cv2.connectedComponents(img)\n",
        "Hu = []\n",
        "objects = []\n",
        "\n",
        "for i in range(1, sh):\n",
        "    I = (img == i).astype('uint8')\n",
        "    objects.append(I)\n",
        "    moments = cv2.moments(I)\n",
        "    HuMoments = cv2.HuMoments(moments)\n",
        "    Hu.append([h[0] for h in HuMoments])\n",
        "df = pd.DataFrame(data=Hu, index=[f'Object {i+1}' for i in range(len(Hu))])\n",
        "df"
      ],
      "metadata": {
        "colab": {
          "base_uri": "https://localhost:8080/",
          "height": 300
        },
        "id": "nPiyXJ5iR9qt",
        "outputId": "7a60d796-f041-4003-a67c-f9f060aa0deb"
      },
      "execution_count": 49,
      "outputs": [
        {
          "output_type": "execute_result",
          "data": {
            "text/plain": [
              "                 0             1             2             3             4  \\\n",
              "Object 1  0.250204  2.309285e-09  2.319598e-05  1.473269e-06  8.612504e-12   \n",
              "Object 2  0.257949  1.089780e-06  2.862165e-05  1.776229e-06  1.263061e-11   \n",
              "Object 3  0.257059  1.502619e-07  2.739261e-05  1.737327e-06  1.198410e-11   \n",
              "Object 4  0.159155  3.162930e-08  8.220631e-10  7.363402e-14 -3.493461e-25   \n",
              "Object 5  0.159156  1.306090e-07  9.507577e-09  3.346788e-13 -1.337168e-24   \n",
              "Object 6  0.166692  2.373824e-06  6.355965e-10  5.312574e-11  4.015644e-21   \n",
              "Object 7  0.166718  1.500543e-06  2.850792e-09  1.868406e-10  1.088085e-19   \n",
              "Object 8  0.166660  2.234422e-06  0.000000e+00  0.000000e+00  0.000000e+00   \n",
              "\n",
              "                     5             6  \n",
              "Object 1  7.079797e-11  1.182479e-24  \n",
              "Object 2 -1.854007e-09  9.290012e-13  \n",
              "Object 3 -6.733788e-10 -1.490545e-13  \n",
              "Object 4  1.157622e-17  4.540472e-25  \n",
              "Object 5 -5.828828e-17  1.883151e-23  \n",
              "Object 6 -5.997815e-14 -8.898056e-21  \n",
              "Object 7 -6.241802e-15  8.218870e-20  \n",
              "Object 8  0.000000e+00  0.000000e+00  "
            ],
            "text/html": [
              "\n",
              "  <div id=\"df-4e248373-a2a5-48cf-85d3-4260f8a777f1\">\n",
              "    <div class=\"colab-df-container\">\n",
              "      <div>\n",
              "<style scoped>\n",
              "    .dataframe tbody tr th:only-of-type {\n",
              "        vertical-align: middle;\n",
              "    }\n",
              "\n",
              "    .dataframe tbody tr th {\n",
              "        vertical-align: top;\n",
              "    }\n",
              "\n",
              "    .dataframe thead th {\n",
              "        text-align: right;\n",
              "    }\n",
              "</style>\n",
              "<table border=\"1\" class=\"dataframe\">\n",
              "  <thead>\n",
              "    <tr style=\"text-align: right;\">\n",
              "      <th></th>\n",
              "      <th>0</th>\n",
              "      <th>1</th>\n",
              "      <th>2</th>\n",
              "      <th>3</th>\n",
              "      <th>4</th>\n",
              "      <th>5</th>\n",
              "      <th>6</th>\n",
              "    </tr>\n",
              "  </thead>\n",
              "  <tbody>\n",
              "    <tr>\n",
              "      <th>Object 1</th>\n",
              "      <td>0.250204</td>\n",
              "      <td>2.309285e-09</td>\n",
              "      <td>2.319598e-05</td>\n",
              "      <td>1.473269e-06</td>\n",
              "      <td>8.612504e-12</td>\n",
              "      <td>7.079797e-11</td>\n",
              "      <td>1.182479e-24</td>\n",
              "    </tr>\n",
              "    <tr>\n",
              "      <th>Object 2</th>\n",
              "      <td>0.257949</td>\n",
              "      <td>1.089780e-06</td>\n",
              "      <td>2.862165e-05</td>\n",
              "      <td>1.776229e-06</td>\n",
              "      <td>1.263061e-11</td>\n",
              "      <td>-1.854007e-09</td>\n",
              "      <td>9.290012e-13</td>\n",
              "    </tr>\n",
              "    <tr>\n",
              "      <th>Object 3</th>\n",
              "      <td>0.257059</td>\n",
              "      <td>1.502619e-07</td>\n",
              "      <td>2.739261e-05</td>\n",
              "      <td>1.737327e-06</td>\n",
              "      <td>1.198410e-11</td>\n",
              "      <td>-6.733788e-10</td>\n",
              "      <td>-1.490545e-13</td>\n",
              "    </tr>\n",
              "    <tr>\n",
              "      <th>Object 4</th>\n",
              "      <td>0.159155</td>\n",
              "      <td>3.162930e-08</td>\n",
              "      <td>8.220631e-10</td>\n",
              "      <td>7.363402e-14</td>\n",
              "      <td>-3.493461e-25</td>\n",
              "      <td>1.157622e-17</td>\n",
              "      <td>4.540472e-25</td>\n",
              "    </tr>\n",
              "    <tr>\n",
              "      <th>Object 5</th>\n",
              "      <td>0.159156</td>\n",
              "      <td>1.306090e-07</td>\n",
              "      <td>9.507577e-09</td>\n",
              "      <td>3.346788e-13</td>\n",
              "      <td>-1.337168e-24</td>\n",
              "      <td>-5.828828e-17</td>\n",
              "      <td>1.883151e-23</td>\n",
              "    </tr>\n",
              "    <tr>\n",
              "      <th>Object 6</th>\n",
              "      <td>0.166692</td>\n",
              "      <td>2.373824e-06</td>\n",
              "      <td>6.355965e-10</td>\n",
              "      <td>5.312574e-11</td>\n",
              "      <td>4.015644e-21</td>\n",
              "      <td>-5.997815e-14</td>\n",
              "      <td>-8.898056e-21</td>\n",
              "    </tr>\n",
              "    <tr>\n",
              "      <th>Object 7</th>\n",
              "      <td>0.166718</td>\n",
              "      <td>1.500543e-06</td>\n",
              "      <td>2.850792e-09</td>\n",
              "      <td>1.868406e-10</td>\n",
              "      <td>1.088085e-19</td>\n",
              "      <td>-6.241802e-15</td>\n",
              "      <td>8.218870e-20</td>\n",
              "    </tr>\n",
              "    <tr>\n",
              "      <th>Object 8</th>\n",
              "      <td>0.166660</td>\n",
              "      <td>2.234422e-06</td>\n",
              "      <td>0.000000e+00</td>\n",
              "      <td>0.000000e+00</td>\n",
              "      <td>0.000000e+00</td>\n",
              "      <td>0.000000e+00</td>\n",
              "      <td>0.000000e+00</td>\n",
              "    </tr>\n",
              "  </tbody>\n",
              "</table>\n",
              "</div>\n",
              "      <button class=\"colab-df-convert\" onclick=\"convertToInteractive('df-4e248373-a2a5-48cf-85d3-4260f8a777f1')\"\n",
              "              title=\"Convert this dataframe to an interactive table.\"\n",
              "              style=\"display:none;\">\n",
              "        \n",
              "  <svg xmlns=\"http://www.w3.org/2000/svg\" height=\"24px\"viewBox=\"0 0 24 24\"\n",
              "       width=\"24px\">\n",
              "    <path d=\"M0 0h24v24H0V0z\" fill=\"none\"/>\n",
              "    <path d=\"M18.56 5.44l.94 2.06.94-2.06 2.06-.94-2.06-.94-.94-2.06-.94 2.06-2.06.94zm-11 1L8.5 8.5l.94-2.06 2.06-.94-2.06-.94L8.5 2.5l-.94 2.06-2.06.94zm10 10l.94 2.06.94-2.06 2.06-.94-2.06-.94-.94-2.06-.94 2.06-2.06.94z\"/><path d=\"M17.41 7.96l-1.37-1.37c-.4-.4-.92-.59-1.43-.59-.52 0-1.04.2-1.43.59L10.3 9.45l-7.72 7.72c-.78.78-.78 2.05 0 2.83L4 21.41c.39.39.9.59 1.41.59.51 0 1.02-.2 1.41-.59l7.78-7.78 2.81-2.81c.8-.78.8-2.07 0-2.86zM5.41 20L4 18.59l7.72-7.72 1.47 1.35L5.41 20z\"/>\n",
              "  </svg>\n",
              "      </button>\n",
              "      \n",
              "  <style>\n",
              "    .colab-df-container {\n",
              "      display:flex;\n",
              "      flex-wrap:wrap;\n",
              "      gap: 12px;\n",
              "    }\n",
              "\n",
              "    .colab-df-convert {\n",
              "      background-color: #E8F0FE;\n",
              "      border: none;\n",
              "      border-radius: 50%;\n",
              "      cursor: pointer;\n",
              "      display: none;\n",
              "      fill: #1967D2;\n",
              "      height: 32px;\n",
              "      padding: 0 0 0 0;\n",
              "      width: 32px;\n",
              "    }\n",
              "\n",
              "    .colab-df-convert:hover {\n",
              "      background-color: #E2EBFA;\n",
              "      box-shadow: 0px 1px 2px rgba(60, 64, 67, 0.3), 0px 1px 3px 1px rgba(60, 64, 67, 0.15);\n",
              "      fill: #174EA6;\n",
              "    }\n",
              "\n",
              "    [theme=dark] .colab-df-convert {\n",
              "      background-color: #3B4455;\n",
              "      fill: #D2E3FC;\n",
              "    }\n",
              "\n",
              "    [theme=dark] .colab-df-convert:hover {\n",
              "      background-color: #434B5C;\n",
              "      box-shadow: 0px 1px 3px 1px rgba(0, 0, 0, 0.15);\n",
              "      filter: drop-shadow(0px 1px 2px rgba(0, 0, 0, 0.3));\n",
              "      fill: #FFFFFF;\n",
              "    }\n",
              "  </style>\n",
              "\n",
              "      <script>\n",
              "        const buttonEl =\n",
              "          document.querySelector('#df-4e248373-a2a5-48cf-85d3-4260f8a777f1 button.colab-df-convert');\n",
              "        buttonEl.style.display =\n",
              "          google.colab.kernel.accessAllowed ? 'block' : 'none';\n",
              "\n",
              "        async function convertToInteractive(key) {\n",
              "          const element = document.querySelector('#df-4e248373-a2a5-48cf-85d3-4260f8a777f1');\n",
              "          const dataTable =\n",
              "            await google.colab.kernel.invokeFunction('convertToInteractive',\n",
              "                                                     [key], {});\n",
              "          if (!dataTable) return;\n",
              "\n",
              "          const docLinkHtml = 'Like what you see? Visit the ' +\n",
              "            '<a target=\"_blank\" href=https://colab.research.google.com/notebooks/data_table.ipynb>data table notebook</a>'\n",
              "            + ' to learn more about interactive tables.';\n",
              "          element.innerHTML = '';\n",
              "          dataTable['output_type'] = 'display_data';\n",
              "          await google.colab.output.renderOutput(dataTable, element);\n",
              "          const docLink = document.createElement('div');\n",
              "          docLink.innerHTML = docLinkHtml;\n",
              "          element.appendChild(docLink);\n",
              "        }\n",
              "      </script>\n",
              "    </div>\n",
              "  </div>\n",
              "  "
            ]
          },
          "metadata": {},
          "execution_count": 49
        }
      ]
    },
    {
      "cell_type": "code",
      "source": [
        "plus = np.zeros(I.shape)\n",
        "for i in range(len(objects)):\n",
        "    if df.loc[f'Object {i + 1}'][0] > 0.250:\n",
        "        plus += objects[i]\n",
        "plt.imshow(plus, 'gray')"
      ],
      "metadata": {
        "colab": {
          "base_uri": "https://localhost:8080/",
          "height": 286
        },
        "id": "Av7EZ_lvR9tU",
        "outputId": "5fd108be-9adf-4bae-8f5a-89ca8757f6ab"
      },
      "execution_count": 60,
      "outputs": [
        {
          "output_type": "execute_result",
          "data": {
            "text/plain": [
              "<matplotlib.image.AxesImage at 0x7f7520f5c4f0>"
            ]
          },
          "metadata": {},
          "execution_count": 60
        },
        {
          "output_type": "display_data",
          "data": {
            "text/plain": [
              "<Figure size 432x288 with 1 Axes>"
            ],
            "image/png": "[encoded data removed]"
          },
          "metadata": {
            "needs_background": "light"
          }
        }
      ]
    },
    {
      "cell_type": "code",
      "source": [
        "square = np.zeros(I.shape)\n",
        "for i in range(len(objects)):\n",
        "    if (df.loc[f'Object {i + 1}'][0] > 0.160) & (df.loc[f'Object {i + 1}'][0] < 0.170):\n",
        "        square += objects[i]\n",
        "plt.imshow(square, 'gray')"
      ],
      "metadata": {
        "colab": {
          "base_uri": "https://localhost:8080/",
          "height": 286
        },
        "id": "IE6eBt8XUCMo",
        "outputId": "6917f2a2-f242-42d6-bda9-5f5cf1ce7ac4"
      },
      "execution_count": 63,
      "outputs": [
        {
          "output_type": "execute_result",
          "data": {
            "text/plain": [
              "<matplotlib.image.AxesImage at 0x7f7520f2b700>"
            ]
          },
          "metadata": {},
          "execution_count": 63
        },
        {
          "output_type": "display_data",
          "data": {
            "text/plain": [
              "<Figure size 432x288 with 1 Axes>"
            ],
            "image/png": "[encoded data removed]"
          },
          "metadata": {
            "needs_background": "light"
          }
        }
      ]
    },
    {
      "cell_type": "markdown",
      "source": [
        "# Implementacja dla obrazu rzeczywistego\n",
        "\n",
        "- Podobne ćwiczenie należy zrealizować dla obrazu rzeczywistego _shapesReal.png_.\n",
        "- Uwaga. Wykorzystując poznane metody przetwarzania obrazu doprowadź obraz do postaci binarnej (usuń ew. zakłócenia itp.).\n",
        "- Uwagi:\n",
        "    - należy z obrazu wyeliminować małe grupki pikseli - tak aby nie zostały poindeksowane,\n",
        "    - obiektów powinno być 13,\n",
        "    - może się okazać, że zajdzie potrzeba modyfikacji warunków na współczynniki albo wręcz wprowadzenia dodatkowych współczynników.\n",
        "    - warto zaznaczyć, że opisane podejście tj. ''ręczne'' wyznaczanie przedziałów parametrów stosuje się tylko do bardzo prostych problemów. W rzeczywistych aplikacjach rozpoznawania obrazu stosuje się tzw. uczenie maszynowe i klasyfikatory typu sztuczne sieci neuronowe, algorytm k-NN, czy SVM.\n",
        "\n",
        "- Sposób postępowania jest zasadniczo bardzo podobny do tego użytego wcześniej. Przy czym, ponieważ obiektów jest więcej, warto je sobie ''opisać'' - ułatwia to analizę:\n",
        "    - użyjemy funkcji `connectedComponentsWithStats` - pozwala ona wyliczyć statystyki (pole, prostokąt otaczający oraz centroid). Szczegóły użycia proszę sprawdzić w dokumentacji,\n",
        "    - wykonujemy kopię obrazu poindeksowanego (`ccl_vis = ccl.copy()`),\n",
        "    - w pętli po obiektach wypisujemy numery:\n",
        "      `cv2.putText(ccl_vis,str(label_num),(int(centroids[s,0]),int(centroids[s,1])),cv2.FONT_HERSHEY_SIMPLEX,1,(20,0,0),2)`\n",
        "      Argumenty to odpowiednio: obraz, tekst, jego położenie, czcionka, rozmiar, kolor, grubość).\n",
        "      Zwracam uwagę na kolor, tu dobrze jest dać wartość nieco większą niż maksymalna etykieta.\n",
        "      Inaczej wystąpi problem z czytelnością wizualizacji.\n",
        "\n",
        "- Przeprowadzamy podobną analizę jak wcześniej i dobieramy odpowiednie warunki/progi.\n",
        "- W efekcie powinniśmy uzyskać obraz z krzyżykami, kwadratami lub kółkami."
      ],
      "metadata": {
        "collapsed": false,
        "id": "sf2jZ40qhmls"
      }
    },
    {
      "cell_type": "code",
      "execution_count": 91,
      "outputs": [
        {
          "output_type": "execute_result",
          "data": {
            "text/plain": [
              "<matplotlib.image.AxesImage at 0x7f751ee4d190>"
            ]
          },
          "metadata": {},
          "execution_count": 91
        },
        {
          "output_type": "display_data",
          "data": {
            "text/plain": [
              "<Figure size 432x288 with 1 Axes>"
            ],
            "image/png": "[encoded data removed]"
          },
          "metadata": {
            "needs_background": "light"
          }
        }
      ],
      "source": [
        "img = cv2.imread('shapesReal.png', cv2.IMREAD_GRAYSCALE)\n",
        "img = (img<65).astype('uint8')\n",
        "plt.imshow(img, 'gray')"
      ],
      "metadata": {
        "pycharm": {
          "name": "#%%\n"
        },
        "id": "jzK4U1eYhmls",
        "outputId": "c5ea4073-7a98-4419-99d0-dafa2b0e8432",
        "colab": {
          "base_uri": "https://localhost:8080/",
          "height": 286
        }
      }
    },
    {
      "cell_type": "code",
      "source": [
        "ob, img, val, centroids = cv2.connectedComponentsWithStats(img)\n",
        "ccl_vis = img.copy()\n",
        "for label_num in range(1, ob):\n",
        "  cv2.putText(ccl_vis,str(label_num),(int(centroids[label_num,0]),int(centroids[label_num,1])),cv2.FONT_HERSHEY_SIMPLEX,1,(20,0,0),2)\n",
        "\n",
        "plt.imshow(ccl_vis,'gray')"
      ],
      "metadata": {
        "colab": {
          "base_uri": "https://localhost:8080/",
          "height": 286
        },
        "id": "0-5oTfGLWA83",
        "outputId": "92b75662-078d-4884-f1cb-4e5265d2676d"
      },
      "execution_count": 92,
      "outputs": [
        {
          "output_type": "execute_result",
          "data": {
            "text/plain": [
              "<matplotlib.image.AxesImage at 0x7f751ee1bbb0>"
            ]
          },
          "metadata": {},
          "execution_count": 92
        },
        {
          "output_type": "display_data",
          "data": {
            "text/plain": [
              "<Figure size 432x288 with 1 Axes>"
            ],
            "image/png": "[encoded data removed]"
          },
          "metadata": {
            "needs_background": "light"
          }
        }
      ]
    },
    {
      "cell_type": "code",
      "source": [
        "Hu = []\n",
        "objects = []\n",
        "\n",
        "for i in range(1, ob):\n",
        "    I = (img == i).astype('uint8')\n",
        "    objects.append(I)\n",
        "    moments = cv2.moments(I)\n",
        "    HuMoments = cv2.HuMoments(moments)\n",
        "    Hu.append([h[0] for h in HuMoments])\n",
        "df = pd.DataFrame(data=Hu, index=[f'Object {i+1}' for i in range(len(Hu))])\n",
        "df"
      ],
      "metadata": {
        "colab": {
          "base_uri": "https://localhost:8080/",
          "height": 457
        },
        "id": "m-1wjpt5XdGR",
        "outputId": "ccef1586-6c2d-4545-a73c-ef0d841f6a32"
      },
      "execution_count": 93,
      "outputs": [
        {
          "output_type": "execute_result",
          "data": {
            "text/plain": [
              "                  0         1             2             3             4  \\\n",
              "Object 1   0.159453  0.000067  4.784822e-06  2.991456e-09  1.962372e-16   \n",
              "Object 2   0.167059  0.000516  5.523660e-07  5.931199e-08  1.073488e-14   \n",
              "Object 3   0.186912  0.003582  1.470149e-03  3.384304e-05 -5.881143e-09   \n",
              "Object 4   0.193075  0.000013  3.809083e-06  2.039501e-06 -3.448782e-13   \n",
              "Object 5   0.166401  0.000009  9.614213e-07  4.919932e-08 -8.930538e-15   \n",
              "Object 6   0.191561  0.000052  4.381321e-03  1.692545e-06 -1.351439e-10   \n",
              "Object 7   0.201808  0.000016  2.260678e-06  6.699237e-07 -6.988071e-13   \n",
              "Object 8   0.206573  0.000082  9.528850e-06  5.010185e-07 -7.634094e-14   \n",
              "Object 9   0.159658  0.000114  5.718412e-06  6.991694e-09 -2.318539e-17   \n",
              "Object 10  0.207534  0.000013  1.352858e-05  6.450914e-07  3.177915e-13   \n",
              "Object 11  0.159268  0.000029  4.581304e-07  1.835989e-10  1.306046e-18   \n",
              "Object 12  0.166142  0.000043  1.501307e-06  3.543467e-08 -5.339207e-15   \n",
              "Object 13  0.166089  0.000045  9.796400e-07  3.436161e-08 -3.543421e-15   \n",
              "\n",
              "                      5             6  \n",
              "Object 1   1.930320e-11  2.993000e-16  \n",
              "Object 2   4.034698e-10  1.257595e-16  \n",
              "Object 3  -1.727830e-06 -4.732687e-09  \n",
              "Object 4   5.340581e-09  5.674076e-12  \n",
              "Object 5   8.248959e-11  5.894208e-15  \n",
              "Object 6  -1.115714e-08 -5.458592e-11  \n",
              "Object 7   1.115276e-12 -4.374525e-13  \n",
              "Object 8   4.531185e-09  1.092049e-12  \n",
              "Object 9   1.191317e-11  1.397821e-15  \n",
              "Object 10  6.487337e-10  1.879032e-12  \n",
              "Object 11  9.175332e-13 -1.062801e-18  \n",
              "Object 12 -1.896390e-10 -6.187854e-15  \n",
              "Object 13  4.822423e-11 -5.214362e-15  "
            ],
            "text/html": [
              "\n",
              "  <div id=\"df-ddc6210e-ec75-44c7-994e-147cfc879afd\">\n",
              "    <div class=\"colab-df-container\">\n",
              "      <div>\n",
              "<style scoped>\n",
              "    .dataframe tbody tr th:only-of-type {\n",
              "        vertical-align: middle;\n",
              "    }\n",
              "\n",
              "    .dataframe tbody tr th {\n",
              "        vertical-align: top;\n",
              "    }\n",
              "\n",
              "    .dataframe thead th {\n",
              "        text-align: right;\n",
              "    }\n",
              "</style>\n",
              "<table border=\"1\" class=\"dataframe\">\n",
              "  <thead>\n",
              "    <tr style=\"text-align: right;\">\n",
              "      <th></th>\n",
              "      <th>0</th>\n",
              "      <th>1</th>\n",
              "      <th>2</th>\n",
              "      <th>3</th>\n",
              "      <th>4</th>\n",
              "      <th>5</th>\n",
              "      <th>6</th>\n",
              "    </tr>\n",
              "  </thead>\n",
              "  <tbody>\n",
              "    <tr>\n",
              "      <th>Object 1</th>\n",
              "      <td>0.159453</td>\n",
              "      <td>0.000067</td>\n",
              "      <td>4.784822e-06</td>\n",
              "      <td>2.991456e-09</td>\n",
              "      <td>1.962372e-16</td>\n",
              "      <td>1.930320e-11</td>\n",
              "      <td>2.993000e-16</td>\n",
              "    </tr>\n",
              "    <tr>\n",
              "      <th>Object 2</th>\n",
              "      <td>0.167059</td>\n",
              "      <td>0.000516</td>\n",
              "      <td>5.523660e-07</td>\n",
              "      <td>5.931199e-08</td>\n",
              "      <td>1.073488e-14</td>\n",
              "      <td>4.034698e-10</td>\n",
              "      <td>1.257595e-16</td>\n",
              "    </tr>\n",
              "    <tr>\n",
              "      <th>Object 3</th>\n",
              "      <td>0.186912</td>\n",
              "      <td>0.003582</td>\n",
              "      <td>1.470149e-03</td>\n",
              "      <td>3.384304e-05</td>\n",
              "      <td>-5.881143e-09</td>\n",
              "      <td>-1.727830e-06</td>\n",
              "      <td>-4.732687e-09</td>\n",
              "    </tr>\n",
              "    <tr>\n",
              "      <th>Object 4</th>\n",
              "      <td>0.193075</td>\n",
              "      <td>0.000013</td>\n",
              "      <td>3.809083e-06</td>\n",
              "      <td>2.039501e-06</td>\n",
              "      <td>-3.448782e-13</td>\n",
              "      <td>5.340581e-09</td>\n",
              "      <td>5.674076e-12</td>\n",
              "    </tr>\n",
              "    <tr>\n",
              "      <th>Object 5</th>\n",
              "      <td>0.166401</td>\n",
              "      <td>0.000009</td>\n",
              "      <td>9.614213e-07</td>\n",
              "      <td>4.919932e-08</td>\n",
              "      <td>-8.930538e-15</td>\n",
              "      <td>8.248959e-11</td>\n",
              "      <td>5.894208e-15</td>\n",
              "    </tr>\n",
              "    <tr>\n",
              "      <th>Object 6</th>\n",
              "      <td>0.191561</td>\n",
              "      <td>0.000052</td>\n",
              "      <td>4.381321e-03</td>\n",
              "      <td>1.692545e-06</td>\n",
              "      <td>-1.351439e-10</td>\n",
              "      <td>-1.115714e-08</td>\n",
              "      <td>-5.458592e-11</td>\n",
              "    </tr>\n",
              "    <tr>\n",
              "      <th>Object 7</th>\n",
              "      <td>0.201808</td>\n",
              "      <td>0.000016</td>\n",
              "      <td>2.260678e-06</td>\n",
              "      <td>6.699237e-07</td>\n",
              "      <td>-6.988071e-13</td>\n",
              "      <td>1.115276e-12</td>\n",
              "      <td>-4.374525e-13</td>\n",
              "    </tr>\n",
              "    <tr>\n",
              "      <th>Object 8</th>\n",
              "      <td>0.206573</td>\n",
              "      <td>0.000082</td>\n",
              "      <td>9.528850e-06</td>\n",
              "      <td>5.010185e-07</td>\n",
              "      <td>-7.634094e-14</td>\n",
              "      <td>4.531185e-09</td>\n",
              "      <td>1.092049e-12</td>\n",
              "    </tr>\n",
              "    <tr>\n",
              "      <th>Object 9</th>\n",
              "      <td>0.159658</td>\n",
              "      <td>0.000114</td>\n",
              "      <td>5.718412e-06</td>\n",
              "      <td>6.991694e-09</td>\n",
              "      <td>-2.318539e-17</td>\n",
              "      <td>1.191317e-11</td>\n",
              "      <td>1.397821e-15</td>\n",
              "    </tr>\n",
              "    <tr>\n",
              "      <th>Object 10</th>\n",
              "      <td>0.207534</td>\n",
              "      <td>0.000013</td>\n",
              "      <td>1.352858e-05</td>\n",
              "      <td>6.450914e-07</td>\n",
              "      <td>3.177915e-13</td>\n",
              "      <td>6.487337e-10</td>\n",
              "      <td>1.879032e-12</td>\n",
              "    </tr>\n",
              "    <tr>\n",
              "      <th>Object 11</th>\n",
              "      <td>0.159268</td>\n",
              "      <td>0.000029</td>\n",
              "      <td>4.581304e-07</td>\n",
              "      <td>1.835989e-10</td>\n",
              "      <td>1.306046e-18</td>\n",
              "      <td>9.175332e-13</td>\n",
              "      <td>-1.062801e-18</td>\n",
              "    </tr>\n",
              "    <tr>\n",
              "      <th>Object 12</th>\n",
              "      <td>0.166142</td>\n",
              "      <td>0.000043</td>\n",
              "      <td>1.501307e-06</td>\n",
              "      <td>3.543467e-08</td>\n",
              "      <td>-5.339207e-15</td>\n",
              "      <td>-1.896390e-10</td>\n",
              "      <td>-6.187854e-15</td>\n",
              "    </tr>\n",
              "    <tr>\n",
              "      <th>Object 13</th>\n",
              "      <td>0.166089</td>\n",
              "      <td>0.000045</td>\n",
              "      <td>9.796400e-07</td>\n",
              "      <td>3.436161e-08</td>\n",
              "      <td>-3.543421e-15</td>\n",
              "      <td>4.822423e-11</td>\n",
              "      <td>-5.214362e-15</td>\n",
              "    </tr>\n",
              "  </tbody>\n",
              "</table>\n",
              "</div>\n",
              "      <button class=\"colab-df-convert\" onclick=\"convertToInteractive('df-ddc6210e-ec75-44c7-994e-147cfc879afd')\"\n",
              "              title=\"Convert this dataframe to an interactive table.\"\n",
              "              style=\"display:none;\">\n",
              "        \n",
              "  <svg xmlns=\"http://www.w3.org/2000/svg\" height=\"24px\"viewBox=\"0 0 24 24\"\n",
              "       width=\"24px\">\n",
              "    <path d=\"M0 0h24v24H0V0z\" fill=\"none\"/>\n",
              "    <path d=\"M18.56 5.44l.94 2.06.94-2.06 2.06-.94-2.06-.94-.94-2.06-.94 2.06-2.06.94zm-11 1L8.5 8.5l.94-2.06 2.06-.94-2.06-.94L8.5 2.5l-.94 2.06-2.06.94zm10 10l.94 2.06.94-2.06 2.06-.94-2.06-.94-.94-2.06-.94 2.06-2.06.94z\"/><path d=\"M17.41 7.96l-1.37-1.37c-.4-.4-.92-.59-1.43-.59-.52 0-1.04.2-1.43.59L10.3 9.45l-7.72 7.72c-.78.78-.78 2.05 0 2.83L4 21.41c.39.39.9.59 1.41.59.51 0 1.02-.2 1.41-.59l7.78-7.78 2.81-2.81c.8-.78.8-2.07 0-2.86zM5.41 20L4 18.59l7.72-7.72 1.47 1.35L5.41 20z\"/>\n",
              "  </svg>\n",
              "      </button>\n",
              "      \n",
              "  <style>\n",
              "    .colab-df-container {\n",
              "      display:flex;\n",
              "      flex-wrap:wrap;\n",
              "      gap: 12px;\n",
              "    }\n",
              "\n",
              "    .colab-df-convert {\n",
              "      background-color: #E8F0FE;\n",
              "      border: none;\n",
              "      border-radius: 50%;\n",
              "      cursor: pointer;\n",
              "      display: none;\n",
              "      fill: #1967D2;\n",
              "      height: 32px;\n",
              "      padding: 0 0 0 0;\n",
              "      width: 32px;\n",
              "    }\n",
              "\n",
              "    .colab-df-convert:hover {\n",
              "      background-color: #E2EBFA;\n",
              "      box-shadow: 0px 1px 2px rgba(60, 64, 67, 0.3), 0px 1px 3px 1px rgba(60, 64, 67, 0.15);\n",
              "      fill: #174EA6;\n",
              "    }\n",
              "\n",
              "    [theme=dark] .colab-df-convert {\n",
              "      background-color: #3B4455;\n",
              "      fill: #D2E3FC;\n",
              "    }\n",
              "\n",
              "    [theme=dark] .colab-df-convert:hover {\n",
              "      background-color: #434B5C;\n",
              "      box-shadow: 0px 1px 3px 1px rgba(0, 0, 0, 0.15);\n",
              "      filter: drop-shadow(0px 1px 2px rgba(0, 0, 0, 0.3));\n",
              "      fill: #FFFFFF;\n",
              "    }\n",
              "  </style>\n",
              "\n",
              "      <script>\n",
              "        const buttonEl =\n",
              "          document.querySelector('#df-ddc6210e-ec75-44c7-994e-147cfc879afd button.colab-df-convert');\n",
              "        buttonEl.style.display =\n",
              "          google.colab.kernel.accessAllowed ? 'block' : 'none';\n",
              "\n",
              "        async function convertToInteractive(key) {\n",
              "          const element = document.querySelector('#df-ddc6210e-ec75-44c7-994e-147cfc879afd');\n",
              "          const dataTable =\n",
              "            await google.colab.kernel.invokeFunction('convertToInteractive',\n",
              "                                                     [key], {});\n",
              "          if (!dataTable) return;\n",
              "\n",
              "          const docLinkHtml = 'Like what you see? Visit the ' +\n",
              "            '<a target=\"_blank\" href=https://colab.research.google.com/notebooks/data_table.ipynb>data table notebook</a>'\n",
              "            + ' to learn more about interactive tables.';\n",
              "          element.innerHTML = '';\n",
              "          dataTable['output_type'] = 'display_data';\n",
              "          await google.colab.output.renderOutput(dataTable, element);\n",
              "          const docLink = document.createElement('div');\n",
              "          docLink.innerHTML = docLinkHtml;\n",
              "          element.appendChild(docLink);\n",
              "        }\n",
              "      </script>\n",
              "    </div>\n",
              "  </div>\n",
              "  "
            ]
          },
          "metadata": {},
          "execution_count": 93
        }
      ]
    },
    {
      "cell_type": "code",
      "source": [
        "square = np.zeros(img.shape)\n",
        "for i in range(len(objects)):\n",
        "    if (df.loc[f'Object {i + 1}'][0] > 0.165) & (df.loc[f'Object {i + 1}'][0] < 0.168):\n",
        "        square += objects[i]\n",
        "plt.imshow(square, 'gray')"
      ],
      "metadata": {
        "colab": {
          "base_uri": "https://localhost:8080/",
          "height": 286
        },
        "id": "X7UPx9fUX-k2",
        "outputId": "fd24859e-29a0-484d-a2ff-bb27349b818b"
      },
      "execution_count": 94,
      "outputs": [
        {
          "output_type": "execute_result",
          "data": {
            "text/plain": [
              "<matplotlib.image.AxesImage at 0x7f751edfc100>"
            ]
          },
          "metadata": {},
          "execution_count": 94
        },
        {
          "output_type": "display_data",
          "data": {
            "text/plain": [
              "<Figure size 432x288 with 1 Axes>"
            ],
            "image/png": "[encoded data removed]"
          },
          "metadata": {
            "needs_background": "light"
          }
        }
      ]
    }
  ],
  "metadata": {
    "kernelspec": {
      "display_name": "Python 3",
      "language": "python",
      "name": "python3"
    },
    "language_info": {
      "codemirror_mode": {
        "name": "ipython",
        "version": 2
      },
      "file_extension": ".py",
      "mimetype": "text/x-python",
      "name": "python",
      "nbconvert_exporter": "python",
      "pygments_lexer": "ipython2",
      "version": "2.7.6"
    },
    "colab": {
      "provenance": []
    }
  },
  "nbformat": 4,
  "nbformat_minor": 0
}